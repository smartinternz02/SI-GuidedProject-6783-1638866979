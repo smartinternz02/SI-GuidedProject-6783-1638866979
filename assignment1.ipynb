{
 "cells": [
  {
   "cell_type": "code",
   "execution_count": 3,
   "id": "8b88b36a",
   "metadata": {},
   "outputs": [
    {
     "name": "stdout",
     "output_type": "stream",
     "text": [
      "['Hi', 'there', 'Sam!']\n"
     ]
    }
   ],
   "source": [
    "s = \"Hi there Sam!\"\n",
    "\n",
    "cut = s.split()\n",
    "\n",
    "print(cut)"
   ]
  },
  {
   "cell_type": "code",
   "execution_count": 5,
   "id": "f6225859",
   "metadata": {},
   "outputs": [
    {
     "name": "stdout",
     "output_type": "stream",
     "text": [
      "The diameter of earth is 12742 kilometers.\n"
     ]
    }
   ],
   "source": [
    "planet=\"earth\"\n",
    "diameter=12742\n",
    "str=\"The diameter of {} is {} kilometers.\"\n",
    "print(str.format(planet,diameter))"
   ]
  },
  {
   "cell_type": "code",
   "execution_count": 21,
   "id": "88d2105b",
   "metadata": {},
   "outputs": [
    {
     "name": "stdout",
     "output_type": "stream",
     "text": [
      "['hello']\n"
     ]
    }
   ],
   "source": [
    "lst = [1,2,[3,4],[5,[100,200,['hello']],23,11],1,7]\n",
    "print(lst[3][1][2])"
   ]
  },
  {
   "cell_type": "code",
   "execution_count": 37,
   "id": "35b4b4d4",
   "metadata": {},
   "outputs": [
    {
     "name": "stdout",
     "output_type": "stream",
     "text": [
      "hello\n"
     ]
    }
   ],
   "source": [
    "import pprint\n",
    "d = {'k1':[1,2,3,{'tricky':['oh','man','inception',{'target':[1,2,3,'hello']}]}]}\n",
    "print(d['k1'][3]['tricky'][3]['target'][3])\n",
    "\n",
    "\n"
   ]
  },
  {
   "cell_type": "code",
   "execution_count": null,
   "id": "00005b1b",
   "metadata": {},
   "outputs": [],
   "source": [
    "#Tuple is immutable\n",
    "#list items can be changed"
   ]
  },
  {
   "cell_type": "code",
   "execution_count": 54,
   "id": "88d0b149",
   "metadata": {},
   "outputs": [],
   "source": [
    "def domain(email):\n",
    "    return email.split('@')[1]"
   ]
  },
  {
   "cell_type": "code",
   "execution_count": 55,
   "id": "be5cfb55",
   "metadata": {},
   "outputs": [
    {
     "data": {
      "text/plain": [
       "'gmail.com'"
      ]
     },
     "execution_count": 55,
     "metadata": {},
     "output_type": "execute_result"
    }
   ],
   "source": [
    "domain('nibasnazeem@gmail.com')"
   ]
  },
  {
   "cell_type": "code",
   "execution_count": 56,
   "id": "8b6c6393",
   "metadata": {},
   "outputs": [],
   "source": [
    "def dog(d):\n",
    "    return 'dog' in d.lower().split()"
   ]
  },
  {
   "cell_type": "code",
   "execution_count": 57,
   "id": "6baaf07c",
   "metadata": {},
   "outputs": [
    {
     "data": {
      "text/plain": [
       "True"
      ]
     },
     "execution_count": 57,
     "metadata": {},
     "output_type": "execute_result"
    }
   ],
   "source": [
    "dog('Is there a dog here?')"
   ]
  },
  {
   "cell_type": "code",
   "execution_count": 60,
   "id": "5a8d4246",
   "metadata": {},
   "outputs": [
    {
     "data": {
      "text/plain": [
       "['soup', 'salad']"
      ]
     },
     "execution_count": 60,
     "metadata": {},
     "output_type": "execute_result"
    }
   ],
   "source": [
    "seq = ['soup','dog','salad','cat','great']\n",
    "list(filter(lambda item:item[0]=='s',seq))"
   ]
  },
  {
   "cell_type": "code",
   "execution_count": 65,
   "id": "8ea7cba6",
   "metadata": {},
   "outputs": [],
   "source": [
    "def spd(s, isbdy):\n",
    "    if isbdy:\n",
    "        s = s - 5\n",
    "    if   s > 80:\n",
    "        return 'Big Ticket'\n",
    "    elif s > 60:\n",
    "        return 'Small Ticket'\n",
    "    else:\n",
    "        return 'No Ticket'"
   ]
  },
  {
   "cell_type": "code",
   "execution_count": 69,
   "id": "032e9f64",
   "metadata": {},
   "outputs": [
    {
     "data": {
      "text/plain": [
       "'Small Ticket'"
      ]
     },
     "execution_count": 69,
     "metadata": {},
     "output_type": "execute_result"
    }
   ],
   "source": [
    "spd(81,True)"
   ]
  },
  {
   "cell_type": "code",
   "execution_count": 68,
   "id": "1dbbb916",
   "metadata": {},
   "outputs": [
    {
     "data": {
      "text/plain": [
       "'Big Ticket'"
      ]
     },
     "execution_count": 68,
     "metadata": {},
     "output_type": "execute_result"
    }
   ],
   "source": [
    "spd(81,False)"
   ]
  }
 ],
 "metadata": {
  "kernelspec": {
   "display_name": "Python 3 (ipykernel)",
   "language": "python",
   "name": "python3"
  },
  "language_info": {
   "codemirror_mode": {
    "name": "ipython",
    "version": 3
   },
   "file_extension": ".py",
   "mimetype": "text/x-python",
   "name": "python",
   "nbconvert_exporter": "python",
   "pygments_lexer": "ipython3",
   "version": "3.9.7"
  }
 },
 "nbformat": 4,
 "nbformat_minor": 5
}
